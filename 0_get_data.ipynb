{
  "nbformat": 4,
  "nbformat_minor": 0,
  "metadata": {
    "colab": {
      "provenance": [],
      "authorship_tag": "ABX9TyNBvh5UX0y8crBG++9zKBDt",
      "include_colab_link": true
    },
    "kernelspec": {
      "name": "python3",
      "display_name": "Python 3"
    },
    "language_info": {
      "name": "python"
    }
  },
  "cells": [
    {
      "cell_type": "markdown",
      "metadata": {
        "id": "view-in-github",
        "colab_type": "text"
      },
      "source": [
        "<a href=\"https://colab.research.google.com/github/rymuelle/CFB_computer_poll/blob/main/0_get_data.ipynb\" target=\"_parent\"><img src=\"https://colab.research.google.com/assets/colab-badge.svg\" alt=\"Open In Colab\"/></a>"
      ]
    },
    {
      "cell_type": "code",
      "source": [
        "# Automatically mounts the right dir in google drive.\n",
        "# Make a dir called CFB in your drive that you put this notebook in.\n",
        "from google.colab import drive\n",
        "drive.mount('/content/drive')\n",
        "import os\n",
        "os.chdir('/content/drive/MyDrive/CFB')"
      ],
      "metadata": {
        "id": "WFbR4yI2pO3o"
      },
      "execution_count": null,
      "outputs": []
    },
    {
      "cell_type": "code",
      "source": [
        "# You'll need to get an API key from https://collegefootballdata.com/key and save it as plain text in \"key.txt\" in the CFB dir.\n",
        "with open('key.txt', 'r') as f:\n",
        "  key = f.read()"
      ],
      "metadata": {
        "id": "ckzO-KlApd38"
      },
      "execution_count": null,
      "outputs": []
    },
    {
      "cell_type": "code",
      "source": [
        "# Installs the api we will use to query the CFB database.\n",
        "!pip install cfbd"
      ],
      "metadata": {
        "id": "rzOmAGiNpcrG"
      },
      "execution_count": null,
      "outputs": []
    },
    {
      "cell_type": "code",
      "source": [
        "import cfbd\n",
        "from cfbd.rest import ApiException\n",
        "\n",
        "# Configure API key authorization: ApiKeyAuth\n",
        "configuration = cfbd.Configuration()\n",
        "configuration.api_key['Authorization'] = key\n",
        "configuration.api_key_prefix['Authorization'] = 'Bearer'"
      ],
      "metadata": {
        "id": "amJuw6GrqOLR"
      },
      "execution_count": null,
      "outputs": []
    },
    {
      "cell_type": "code",
      "source": [
        "import pandas as pd"
      ],
      "metadata": {
        "id": "Nq07viRBrdUV"
      },
      "execution_count": null,
      "outputs": []
    },
    {
      "cell_type": "code",
      "source": [
        "api_instance = cfbd.GamesApi(cfbd.ApiClient(configuration))"
      ],
      "metadata": {
        "id": "4gMBnbcSqjFI"
      },
      "execution_count": null,
      "outputs": []
    },
    {
      "cell_type": "code",
      "source": [
        "for year in [1990+x for x in range(34)]:\n",
        "  print(year)\n",
        "  response = api_instance.get_games(year)\n",
        "  response_post = api_instance.get_games(year, season_type='postseason')\n",
        "  tdf = pd.DataFrame([x.to_dict() for x in (response+response_post)])\n",
        "  tdf.to_csv(f'data/{year}.csv')"
      ],
      "metadata": {
        "id": "FScE7LFJqnDh"
      },
      "execution_count": null,
      "outputs": []
    }
  ]
}